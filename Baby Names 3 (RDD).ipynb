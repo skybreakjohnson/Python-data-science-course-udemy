{
 "cells": [
  {
   "cell_type": "code",
   "execution_count": 1,
   "metadata": {
    "collapsed": true
   },
   "outputs": [],
   "source": [
    "from pyspark import SparkContext, SparkConf\n",
    "import initspark"
   ]
  },
  {
   "cell_type": "code",
   "execution_count": 2,
   "metadata": {
    "collapsed": true
   },
   "outputs": [],
   "source": [
    "conf = SparkConf().setAppName(\"BabyNames3\").setMaster(\"local\")\n",
    "sc = SparkContext(conf=conf)"
   ]
  },
  {
   "cell_type": "code",
   "execution_count": 5,
   "metadata": {
    "collapsed": true
   },
   "outputs": [],
   "source": [
    "rdd = sc\\\n",
    "    .textFile(\"data/names/StateNames.csv\")\\\n",
    "    .map(lambda x: x.split(\",\"))\\\n",
    "    .cache()"
   ]
  },
  {
   "cell_type": "code",
   "execution_count": 9,
   "metadata": {
    "collapsed": false
   },
   "outputs": [
    {
     "data": {
      "text/plain": [
       "[['Id', 'Name', 'Year', 'Gender', 'State', 'Count'],\n",
       " ['1', 'Mary', '1910', 'F', 'AK', '14'],\n",
       " ['2', 'Annie', '1910', 'F', 'AK', '12'],\n",
       " ['3', 'Anna', '1910', 'F', 'AK', '10']]"
      ]
     },
     "execution_count": 9,
     "metadata": {},
     "output_type": "execute_result"
    }
   ],
   "source": [
    "rdd.take(4)"
   ]
  },
  {
   "cell_type": "code",
   "execution_count": 14,
   "metadata": {
    "collapsed": false
   },
   "outputs": [
    {
     "data": {
      "text/plain": [
       "3941"
      ]
     },
     "execution_count": 14,
     "metadata": {},
     "output_type": "execute_result"
    }
   ],
   "source": [
    "rdd.filter(lambda x: x[1] == \"Kevin\").count()"
   ]
  },
  {
   "cell_type": "code",
   "execution_count": 16,
   "metadata": {
    "collapsed": false
   },
   "outputs": [
    {
     "data": {
      "text/plain": [
       "[['23305', 'Kevin', '2000', 'M', 'AK', '21'],\n",
       " ['142326', 'Kevin', '2000', 'M', 'AL', '105'],\n",
       " ['241207', 'Kevin', '2000', 'M', 'AR', '65'],\n",
       " ['341930', 'Kevin', '2000', 'M', 'AZ', '272']]"
      ]
     },
     "execution_count": 16,
     "metadata": {},
     "output_type": "execute_result"
    }
   ],
   "source": [
    "rdd.filter(lambda x: x[1] == \"Kevin\").filter(lambda x: x[2] == \"2000\").take(4)"
   ]
  },
  {
   "cell_type": "code",
   "execution_count": 18,
   "metadata": {
    "collapsed": false
   },
   "outputs": [
    {
     "data": {
      "text/plain": [
       "[('2000', '21'), ('2000', '105'), ('2000', '65'), ('2000', '272')]"
      ]
     },
     "execution_count": 18,
     "metadata": {},
     "output_type": "execute_result"
    }
   ],
   "source": [
    "rdd\\\n",
    "    .filter(lambda x: x[1] == \"Kevin\")\\\n",
    "    .map(lambda x: (x[2], x[5]))\\\n",
    "    .filter(lambda x: x[0] == \"2000\")\\\n",
    "    .take(4)"
   ]
  },
  {
   "cell_type": "code",
   "execution_count": 19,
   "metadata": {
    "collapsed": true
   },
   "outputs": [],
   "source": [
    "rddYearAndName = rdd\\\n",
    "    .filter(lambda x: x[1] == \"Kevin\")\\\n",
    "    .map(lambda x: (x[2], x[5]))\n"
   ]
  },
  {
   "cell_type": "code",
   "execution_count": 20,
   "metadata": {
    "collapsed": false
   },
   "outputs": [
    {
     "data": {
      "text/plain": [
       "[('1953', '12'), ('1954', '17'), ('1955', '23'), ('1956', '23')]"
      ]
     },
     "execution_count": 20,
     "metadata": {},
     "output_type": "execute_result"
    }
   ],
   "source": [
    "rddYearAndName.take(4)"
   ]
  },
  {
   "cell_type": "code",
   "execution_count": 38,
   "metadata": {
    "collapsed": false
   },
   "outputs": [],
   "source": [
    "results = rddYearAndName.reduceByKey(lambda x, y: int(x) + int(y)).collect()"
   ]
  },
  {
   "cell_type": "code",
   "execution_count": 39,
   "metadata": {
    "collapsed": false
   },
   "outputs": [
    {
     "name": "stdout",
     "output_type": "stream",
     "text": [
      "[('1918', '7'), ('1920', '9'), ('1921', 58), ('1922', 37), ('1923', 29), ('1924', 25), ('1925', 44), ('1926', 22), ('1927', 48), ('1928', 42), ('1929', 53), ('1930', 56), ('1931', 91), ('1932', 97), ('1933', 104), ('1934', 118), ('1935', 135), ('1936', 128), ('1937', 140), ('1938', 211), ('1939', 236), ('1940', 273), ('1941', 373), ('1942', 500), ('1943', 609), ('1944', 546), ('1945', 644), ('1946', 988), ('1947', 1517), ('1948', 2221), ('1949', 3299), ('1950', 4753), ('1951', 6350), ('1952', 7932), ('1953', 10011), ('1954', 15352), ('1955', 17161), ('1956', 21780), ('1957', 24321), ('1958', 24699), ('1959', 26815), ('1960', 28431), ('1961', 28950), ('1962', 28393), ('1963', 30691), ('1964', 29423), ('1965', 28250), ('1966', 25662), ('1967', 24677), ('1968', 23937), ('1969', 23664), ('1970', 27056), ('1971', 24939), ('1972', 22427), ('1973', 20872), ('1974', 19541), ('1975', 18140), ('1976', 18534), ('1977', 22571), ('1978', 20157), ('1979', 18784), ('1980', 18054), ('1981', 17518), ('1982', 17524), ('1983', 17474), ('1984', 17925), ('1985', 18902), ('1986', 20029), ('1987', 20489), ('1988', 20215), ('1989', 21252), ('1990', 20436), ('1991', 20315), ('1992', 19664), ('1993', 19102), ('1994', 17335), ('1995', 15892), ('1996', 14601), ('1997', 13310), ('1998', 12512), ('1999', 12258), ('2000', 12675), ('2001', 12600), ('2002', 12056), ('2003', 11732), ('2004', 11239), ('2005', 10903), ('2006', 10781), ('2007', 10518), ('2008', 9778), ('2009', 8766), ('2010', 7312), ('2011', 6545), ('2012', 6210), ('2013', 5904), ('2014', 5847)]\n"
     ]
    }
   ],
   "source": [
    "print(sorted(results))"
   ]
  },
  {
   "cell_type": "markdown",
   "metadata": {},
   "source": [
    "### Aufgabe: Zeichne daraus einen Graphen!"
   ]
  },
  {
   "cell_type": "code",
   "execution_count": 31,
   "metadata": {
    "collapsed": true
   },
   "outputs": [],
   "source": [
    "import matplotlib.pyplot as plt\n",
    "\n",
    "%matplotlib inline"
   ]
  },
  {
   "cell_type": "code",
   "execution_count": 40,
   "metadata": {
    "collapsed": true
   },
   "outputs": [],
   "source": [
    "results = rddYearAndName.reduceByKey(lambda x, y: int(x) + int(y)).collect()"
   ]
  },
  {
   "cell_type": "code",
   "execution_count": 42,
   "metadata": {
    "collapsed": false
   },
   "outputs": [],
   "source": [
    "results = sorted(results)"
   ]
  },
  {
   "cell_type": "code",
   "execution_count": 45,
   "metadata": {
    "collapsed": false
   },
   "outputs": [],
   "source": [
    "x = []\n",
    "y = []\n",
    "\n",
    "for result in results:\n",
    "    x.append(result[0])\n",
    "    y.append(result[1])"
   ]
  },
  {
   "cell_type": "code",
   "execution_count": 48,
   "metadata": {
    "collapsed": false
   },
   "outputs": [
    {
     "data": {
      "image/png": "[encoded data removed]",
      "text/plain": [
       "<matplotlib.figure.Figure at 0x10ffc73c8>"
      ]
     },
     "metadata": {},
     "output_type": "display_data"
    }
   ],
   "source": [
    "plt.plot(x, y)\n",
    "plt.show()"
   ]
  },
  {
   "cell_type": "code",
   "execution_count": null,
   "metadata": {
    "collapsed": true
   },
   "outputs": [],
   "source": []
  }
 ],
 "metadata": {
  "kernelspec": {
   "display_name": "Python 3",
   "language": "python",
   "name": "python3"
  },
  "language_info": {
   "codemirror_mode": {
    "name": "ipython",
    "version": 3
   },
   "file_extension": ".py",
   "mimetype": "text/x-python",
   "name": "python",
   "nbconvert_exporter": "python",
   "pygments_lexer": "ipython3",
   "version": "3.6.0"
  }
 },
 "nbformat": 4,
 "nbformat_minor": 2
}
