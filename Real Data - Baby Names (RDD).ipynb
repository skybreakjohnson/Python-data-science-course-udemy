{
 "cells": [
  {
   "cell_type": "code",
   "execution_count": 9,
   "metadata": {},
   "outputs": [],
   "source": [
    "from pyspark import SparkContext, SparkConf"
   ]
  },
  {
   "cell_type": "code",
   "execution_count": 10,
   "metadata": {},
   "outputs": [],
   "source": [
    "sc.stop() # Fix - ValueError: Cannot run multiple SparkContexts at once"
   ]
  },
  {
   "cell_type": "code",
   "execution_count": 11,
   "metadata": {},
   "outputs": [],
   "source": [
    "conf = SparkConf().setAppName(\"BabyNames\").setMaster(\"local\")\n",
    "sc = SparkContext(conf=conf)"
   ]
  },
  {
   "cell_type": "code",
   "execution_count": 14,
   "metadata": {},
   "outputs": [],
   "source": [
    "rdd = sc.textFile(\"/Users/skybreakjohnson/Downloads/pythonspark/data/names/StateNames.csv\")"
   ]
  },
  {
   "cell_type": "code",
   "execution_count": 15,
   "metadata": {},
   "outputs": [
    {
     "data": {
      "text/plain": [
       "5647427"
      ]
     },
     "execution_count": 15,
     "metadata": {},
     "output_type": "execute_result"
    }
   ],
   "source": [
    "rdd.count()"
   ]
  },
  {
   "cell_type": "code",
   "execution_count": 16,
   "metadata": {},
   "outputs": [
    {
     "data": {
      "text/plain": [
       "['Id,Name,Year,Gender,State,Count',\n",
       " '1,Mary,1910,F,AK,14',\n",
       " '2,Annie,1910,F,AK,12',\n",
       " '3,Anna,1910,F,AK,10',\n",
       " '4,Margaret,1910,F,AK,8']"
      ]
     },
     "execution_count": 16,
     "metadata": {},
     "output_type": "execute_result"
    }
   ],
   "source": [
    "rdd.take(5) # string"
   ]
  },
  {
   "cell_type": "code",
   "execution_count": 17,
   "metadata": {},
   "outputs": [
    {
     "data": {
      "text/plain": [
       "['1', 'Mary', '1910', 'F', 'AK', '14']"
      ]
     },
     "execution_count": 17,
     "metadata": {},
     "output_type": "execute_result"
    }
   ],
   "source": [
    "\"1,Mary,1910,F,AK,14\".split(\",\")"
   ]
  },
  {
   "cell_type": "code",
   "execution_count": 18,
   "metadata": {},
   "outputs": [
    {
     "data": {
      "text/plain": [
       "[['Id', 'Name', 'Year', 'Gender', 'State', 'Count'],\n",
       " ['1', 'Mary', '1910', 'F', 'AK', '14'],\n",
       " ['2', 'Annie', '1910', 'F', 'AK', '12'],\n",
       " ['3', 'Anna', '1910', 'F', 'AK', '10'],\n",
       " ['4', 'Margaret', '1910', 'F', 'AK', '8']]"
      ]
     },
     "execution_count": 18,
     "metadata": {},
     "output_type": "execute_result"
    }
   ],
   "source": [
    "rdd.map(lambda x: x.split(\",\")).take(5) # list"
   ]
  },
  {
   "cell_type": "code",
   "execution_count": 20,
   "metadata": {},
   "outputs": [
    {
     "data": {
      "text/plain": [
       "[['356018', 'Mary', '1910', 'F', 'CA', '295'],\n",
       " ['356019', 'Helen', '1910', 'F', 'CA', '239'],\n",
       " ['356020', 'Dorothy', '1910', 'F', 'CA', '220'],\n",
       " ['356021', 'Margaret', '1910', 'F', 'CA', '163'],\n",
       " ['356022', 'Frances', '1910', 'F', 'CA', '134']]"
      ]
     },
     "execution_count": 20,
     "metadata": {},
     "output_type": "execute_result"
    }
   ],
   "source": [
    "rdd.map(lambda x: x.split(\",\")).filter(lambda x: x[4] == \"CA\").take(5)"
   ]
  },
  {
   "cell_type": "code",
   "execution_count": 21,
   "metadata": {},
   "outputs": [
    {
     "data": {
      "text/plain": [
       "[['545456', 'Julia', '2010', 'F', 'CA', '478']]"
      ]
     },
     "execution_count": 21,
     "metadata": {},
     "output_type": "execute_result"
    }
   ],
   "source": [
    "rdd\\\n",
    "    .map(lambda x: x.split(\",\"))\\\n",
    "    .filter(lambda x: x[4] == \"CA\")\\\n",
    "    .filter(lambda x: x[1] == \"Julia\")\\\n",
    "    .filter(lambda x: x[2] == \"2010\")\\\n",
    "    .take(5)"
   ]
  },
  {
   "cell_type": "markdown",
   "metadata": {},
   "source": [
    "## Weitere Beispiele:"
   ]
  },
  {
   "cell_type": "code",
   "execution_count": 30,
   "metadata": {},
   "outputs": [
    {
     "data": {
      "text/plain": [
       "[['695758', 'Kevin', '2010', 'M', 'CA', '1353']]"
      ]
     },
     "execution_count": 30,
     "metadata": {},
     "output_type": "execute_result"
    }
   ],
   "source": [
    "rdd\\\n",
    "    .map(lambda x: x.split(\",\"))\\\n",
    "    .filter(lambda x: x[1] == \"Kevin\")\\ # try some names\n",
    "    .filter(lambda x: x[4] == \"CA\")\\\n",
    "    .filter(lambda x: x[2] == \"2010\")\\\n",
    "    .take(5)"
   ]
  },
  {
   "cell_type": "code",
   "execution_count": null,
   "metadata": {},
   "outputs": [],
   "source": []
  }
 ],
 "metadata": {
  "kernelspec": {
   "display_name": "Python 3",
   "language": "python",
   "name": "python3"
  },
  "language_info": {
   "codemirror_mode": {
    "name": "ipython",
    "version": 3
   },
   "file_extension": ".py",
   "mimetype": "text/x-python",
   "name": "python",
   "nbconvert_exporter": "python",
   "pygments_lexer": "ipython3",
   "version": "3.7.1"
  }
 },
 "nbformat": 4,
 "nbformat_minor": 2
}
