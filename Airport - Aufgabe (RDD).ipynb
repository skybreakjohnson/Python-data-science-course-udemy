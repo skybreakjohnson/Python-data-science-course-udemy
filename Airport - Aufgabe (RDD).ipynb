{
 "cells": [
  {
   "cell_type": "code",
   "execution_count": 2,
   "metadata": {
    "collapsed": true
   },
   "outputs": [],
   "source": [
    "from pyspark import SparkContext, SparkConf\n",
    "import initspark"
   ]
  },
  {
   "cell_type": "code",
   "execution_count": 3,
   "metadata": {
    "collapsed": false
   },
   "outputs": [],
   "source": [
    "conf = SparkConf().setAppName(\"Airports\").setMaster(\"local\")\n",
    "sc = SparkContext(conf=conf)"
   ]
  },
  {
   "cell_type": "code",
   "execution_count": 6,
   "metadata": {
    "collapsed": false
   },
   "outputs": [],
   "source": [
    "rdd = sc.textFile(\"data/airports/airports-semicolon.csv\")"
   ]
  },
  {
   "cell_type": "markdown",
   "metadata": {},
   "source": [
    "### Aufgabe:\n",
    "\n",
    "1. Wie viele Airports gibt es insgesamt in Deutschland?\n",
    "2. Wie viele geschlossene Airports gibt es in Deutschland?\n",
    "\n",
    "#### Hinweise:\n",
    "\n",
    "- Gegeben ist eine weltweite Liste aller Airports.\n",
    "- Die Daten sind als .csv gespeichert, aber mit Semikolon getrennt. Du benötigst also ein .split(\";\")!\n",
    "- Das Land kannst du anhand der Spalte \"iso_country\" feststellen\n",
    "- Wenn ein Flughafen geschlossen ist, ist die Spalte \"type\" auf \"closed\" gesetzt."
   ]
  },
  {
   "cell_type": "code",
   "execution_count": 28,
   "metadata": {
    "collapsed": false
   },
   "outputs": [
    {
     "data": {
      "text/plain": [
       "['id;ident;type;name;latitude_deg;longitude_deg;elevation_ft;continent;iso_country;iso_region;municipality;scheduled_service;gps_code;iata_code;local_code;home_link;wikipedia_link;keywords',\n",
       " '6523;00A;heliport;Total Rf Heliport;40.07080078125;-74.93360137939453;11;NA;US;US-PA;Bensalem;no;00A;;00A;;;',\n",
       " '6524;00AK;small_airport;Lowell Field;59.94919968;-151.695999146;450;NA;US;US-AK;Anchor Point;no;00AK;;00AK;;;',\n",
       " '6525;00AL;small_airport;Epps Airpark;34.86479949951172;-86.77030181884766;820;NA;US;US-AL;Harvest;no;00AL;;00AL;;;']"
      ]
     },
     "execution_count": 28,
     "metadata": {},
     "output_type": "execute_result"
    }
   ],
   "source": [
    "rdd.take(4)"
   ]
  },
  {
   "cell_type": "code",
   "execution_count": null,
   "metadata": {
    "collapsed": true
   },
   "outputs": [],
   "source": []
  }
 ],
 "metadata": {
  "kernelspec": {
   "display_name": "Python 3",
   "language": "python",
   "name": "python3"
  },
  "language_info": {
   "codemirror_mode": {
    "name": "ipython",
    "version": 3
   },
   "file_extension": ".py",
   "mimetype": "text/x-python",
   "name": "python",
   "nbconvert_exporter": "python",
   "pygments_lexer": "ipython3",
   "version": "3.6.0"
  }
 },
 "nbformat": 4,
 "nbformat_minor": 2
}
